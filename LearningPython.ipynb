{
  "nbformat": 4,
  "nbformat_minor": 0,
  "metadata": {
    "colab": {
      "name": "LearningPython.ipynb",
      "provenance": [],
      "collapsed_sections": [],
      "authorship_tag": "ABX9TyPKnLNCH1y/CTpRHHr51Me0",
      "include_colab_link": true
    },
    "kernelspec": {
      "name": "python3",
      "display_name": "Python 3"
    }
  },
  "cells": [
    {
      "cell_type": "markdown",
      "metadata": {
        "id": "view-in-github",
        "colab_type": "text"
      },
      "source": [
        "<a href=\"https://colab.research.google.com/github/haliechm/LearningPython/blob/master/LearningPython.ipynb\" target=\"_parent\"><img src=\"https://colab.research.google.com/assets/colab-badge.svg\" alt=\"Open In Colab\"/></a>"
      ]
    },
    {
      "cell_type": "markdown",
      "metadata": {
        "id": "Y2qchHFFxxBX",
        "colab_type": "text"
      },
      "source": [
        "**Learning Pyton**\n",
        "\n",
        "\n",
        "---\n",
        "Python Variable Types\n"
      ]
    },
    {
      "cell_type": "markdown",
      "metadata": {
        "id": "RqRdAVllx9x1",
        "colab_type": "text"
      },
      "source": [
        "Multiple assignment\n"
      ]
    },
    {
      "cell_type": "code",
      "metadata": {
        "id": "YzWi4s6sw7u0",
        "colab_type": "code",
        "outputId": "2fd108e6-579d-4ed5-d866-27a511a91380",
        "colab": {
          "base_uri": "https://localhost:8080/",
          "height": 34
        }
      },
      "source": [
        "a = b = c = 1.0\n",
        "print(b)"
      ],
      "execution_count": 0,
      "outputs": [
        {
          "output_type": "stream",
          "text": [
            "1.0\n"
          ],
          "name": "stdout"
        }
      ]
    },
    {
      "cell_type": "code",
      "metadata": {
        "id": "xymSXvmCw_Lb",
        "colab_type": "code",
        "outputId": "fa138416-c450-4a1b-9215-c09623ee3d75",
        "colab": {
          "base_uri": "https://localhost:8080/",
          "height": 34
        }
      },
      "source": [
        "a, b, c = 1.0, \"Moana\", True\n",
        "print(b)"
      ],
      "execution_count": 0,
      "outputs": [
        {
          "output_type": "stream",
          "text": [
            "Moana\n"
          ],
          "name": "stdout"
        }
      ]
    },
    {
      "cell_type": "markdown",
      "metadata": {
        "id": "SR9adV5HyOxu",
        "colab_type": "text"
      },
      "source": [
        "Data Types: \n",
        "int, float, string, boolean\n"
      ]
    },
    {
      "cell_type": "code",
      "metadata": {
        "id": "NL9quYv--6w7",
        "colab_type": "code",
        "outputId": "d91a9608-2473-4edf-fee4-ff0511b6fa6a",
        "colab": {
          "base_uri": "https://localhost:8080/",
          "height": 34
        }
      },
      "source": [
        "x = 4\n",
        "y = 4.0\n",
        "z = \"foo\"\n",
        "w = True\n",
        "\n",
        "type(x) #int \n",
        "type(y) #float\n",
        "type(z) #str\n",
        "type(w) #bool\n",
        "\n"
      ],
      "execution_count": 0,
      "outputs": [
        {
          "output_type": "execute_result",
          "data": {
            "text/plain": [
              "bool"
            ]
          },
          "metadata": {
            "tags": []
          },
          "execution_count": 102
        }
      ]
    },
    {
      "cell_type": "markdown",
      "metadata": {
        "id": "intkGsga9W2b",
        "colab_type": "text"
      },
      "source": [
        "**Numbers**"
      ]
    },
    {
      "cell_type": "code",
      "metadata": {
        "id": "W_qDgqTJ9ezN",
        "colab_type": "code",
        "outputId": "bfa4fe17-f1f4-4710-f625-0c69057bdc93",
        "colab": {
          "base_uri": "https://localhost:8080/",
          "height": 51
        }
      },
      "source": [
        "import math\n",
        "x = -14.5\n",
        "abs(x) # absolute value of x (14.5)\n",
        "math.floor(x) # -15\n",
        "math.ceil(x) #-14\n",
        "\n",
        "y = 14.2\n",
        "math.ceil(y) #15\n",
        "math.floor(y) #14\n",
        "\n",
        "max(4, 5, 6, 7, 8, 2) # max = 8\n",
        "(min(-100, 4, 5, 20000, 2.1, -19) # min = -100\n",
        "\n",
        "\n",
        "pow(2, 3) #8 (2^3)\n",
        "\n",
        "3**3 #27\n",
        "\n",
        "z = 4.092\n",
        "round(z, 2) #4.09 round the second decimal place\n",
        "\n",
        "a = 4.09209487\n",
        "round(a, 4) #4.0921\n",
        "\n",
        "math.sqrt(4) #square root = 2.0\n"
      ],
      "execution_count": 0,
      "outputs": [
        {
          "output_type": "stream",
          "text": [
            "-100\n"
          ],
          "name": "stdout"
        },
        {
          "output_type": "execute_result",
          "data": {
            "text/plain": [
              "2.0"
            ]
          },
          "metadata": {
            "tags": []
          },
          "execution_count": 104
        }
      ]
    },
    {
      "cell_type": "markdown",
      "metadata": {
        "id": "uatHcJHqyv-9",
        "colab_type": "text"
      },
      "source": [
        "**Strings**"
      ]
    },
    {
      "cell_type": "code",
      "metadata": {
        "id": "eCpfG8F7yLVq",
        "colab_type": "code",
        "outputId": "6c639a94-b07a-4894-9796-ce575930f59f",
        "colab": {
          "base_uri": "https://localhost:8080/",
          "height": 119
        }
      },
      "source": [
        "name = \"Halie Chmura\"\n",
        "print(name[0]) #prints first character (H)\n",
        "print (name[3:6]) #prints third index char up to fifth index char (ie )\n",
        "print(name[3:]) #prints third index char to end (ie Chmura)\n",
        "print(name*2) #prints Halie Chmura twice\n",
        "print(name + \" is here\") #concatenates string\n",
        "print(\"The person writing this Python code is: {}\".format(name)) #use format to add variables into the string"
      ],
      "execution_count": 0,
      "outputs": [
        {
          "output_type": "stream",
          "text": [
            "H\n",
            "ie \n",
            "ie Chmura\n",
            "Halie ChmuraHalie Chmura\n",
            "Halie Chmura is here\n",
            "The person writing this Python code is: Halie Chmura\n"
          ],
          "name": "stdout"
        }
      ]
    },
    {
      "cell_type": "code",
      "metadata": {
        "id": "fIACCQXUBFaE",
        "colab_type": "code",
        "outputId": "fb5a1744-f840-4585-ae2c-ea5adc82c778",
        "colab": {
          "base_uri": "https://localhost:8080/",
          "height": 34
        }
      },
      "source": [
        "x = \"Walt Disney World\"\n",
        "\"isn\" in x # True\n",
        "\"eyW\" in x # False\n",
        "\"ey W\" in x # True\n",
        "\n",
        "\"Potato\" not in x # True"
      ],
      "execution_count": 0,
      "outputs": [
        {
          "output_type": "execute_result",
          "data": {
            "text/plain": [
              "True"
            ]
          },
          "metadata": {
            "tags": []
          },
          "execution_count": 128
        }
      ]
    },
    {
      "cell_type": "code",
      "metadata": {
        "id": "GOyz0eYSBkwp",
        "colab_type": "code",
        "outputId": "495ddc16-4730-4936-b391-4b079f9f4248",
        "colab": {
          "base_uri": "https://localhost:8080/",
          "height": 34
        }
      },
      "source": [
        "y = \"Hakuna Matata - it means no worries, for the rest of your days\"\n",
        "y.capitalize() # capitalizes only first work of string\n",
        "\n",
        "y.count(\"or\") # counts how many times \"or appears in sentence\"\n",
        "y.count(\"or\", 0, len(y)) # same as above, but 3 parameters (str, beg, end)\n",
        "\n",
        "y.endswith(\"days\") # True parameters (str, beg, end)\n",
        "\n",
        "o = y.find(\"Mat\") # returns index of first letter if found (7) or -1 if not found\n",
        "\n",
        "y.isalpha() # False - returns true if string has all alphabetical characters (not true bc of spaces)\n",
        "z = \"halie\"\n",
        "z.isalpha() # True\n",
        "\n",
        "y.isdigit() # False - returns true if string only contains numbers\n",
        "z = \"403\"\n",
        "z.isdigit() # True\n",
        "l = \"4.03\"\n",
        "l.isdigit() # False\n",
        "\n",
        "y.islower() # False - returns true if all characters are lower case\n",
        "z = \"hello mate\"\n",
        "z.islower() # True\n",
        "\n",
        "a = \"ADAM\"\n",
        "b = \"eve\"\n",
        "a.join(b) # \"eADAMvADAMe\"\n",
        "\n",
        "len(a) #4 - returns length of string\n",
        "\n",
        "a.lower() # converts all letters to lowercase\n",
        "b.upper() # converts all letters to uppercase\n",
        "\n",
        "max(a) # \"M\" returns max alphabetical char from str\n",
        "min(a) # \"A\" returns min alphabetical char from str\n",
        "\n",
        "c = \"it\\'s late at night\"\n",
        "c.split(\" \", 4) # makes list: [\"it's\", \"late\", \"at\", \"night\"]\n",
        "\n",
        "c.title() # capitalizes first letter of each word\n",
        "\n",
        "c = \"HAlie\"\n",
        "c.swapcase() #\"haLIE\"\n",
        "\n",
        "\n",
        "\n",
        "\n",
        "\n"
      ],
      "execution_count": 0,
      "outputs": [
        {
          "output_type": "execute_result",
          "data": {
            "text/plain": [
              "\"It'S Late At Night\""
            ]
          },
          "metadata": {
            "tags": []
          },
          "execution_count": 163
        }
      ]
    },
    {
      "cell_type": "markdown",
      "metadata": {
        "id": "Mi1UBnkyzwtZ",
        "colab_type": "text"
      },
      "source": [
        "**Lists**\n"
      ]
    },
    {
      "cell_type": "code",
      "metadata": {
        "id": "AUeum5ZSzvQH",
        "colab_type": "code",
        "outputId": "db7f1ce8-abf7-4a6c-9ba9-63a743df5b89",
        "colab": {
          "base_uri": "https://localhost:8080/",
          "height": 156
        }
      },
      "source": [
        "tv_shows = [\"Peaky Blinders\", \"Game Of Thrones\", \"The Office\", \n",
        "            \"Chuck\", \"The 100\", \"Jeopardy\", \"Southern Charm\", \"Family Feud\",\n",
        "            \"Below Deck\", \"Money Heist\", \"The Good Place\", \"Grey's Anatomy\"]\n",
        "mix_list = [\"I'm a string\", 100.02, True, 5, \"Murphy\", False]\n",
        "print(tv_shows) #prints entire list\n",
        "print(tv_shows[0]) #prints first element in list\n",
        "print(tv_shows[2:]) #prints entire list starting with third element\n",
        "print(tv_shows[:4]) #prints beginning of list up to fourth element (does not include fourth indexed element)\n",
        "print(tv_shows * 3) #prints list three times in one list\n",
        "print(tv_shows + mix_list) #prints concatenated list\n",
        "\n",
        "tv_shows[3] = \"Columbo\" #adds Columbo to the third index (fourth element)\n",
        "tv_shows.append(\"Psych\") #adds Psych to the last element\n",
        "\n"
      ],
      "execution_count": 0,
      "outputs": [
        {
          "output_type": "stream",
          "text": [
            "['Peaky Blinders', 'Game Of Thrones', 'The Office', 'Chuck', 'The 100', 'Jeopardy', 'Southern Charm', 'Family Feud', 'Below Deck', 'Money Heist', 'The Good Place', \"Grey's Anatomy\"]\n",
            "Peaky Blinders\n",
            "['The Office', 'Chuck', 'The 100', 'Jeopardy', 'Southern Charm', 'Family Feud', 'Below Deck', 'Money Heist', 'The Good Place', \"Grey's Anatomy\"]\n",
            "['Peaky Blinders', 'Game Of Thrones', 'The Office', 'Chuck']\n",
            "['Peaky Blinders', 'Game Of Thrones', 'The Office', 'Chuck', 'The 100', 'Jeopardy', 'Southern Charm', 'Family Feud', 'Below Deck', 'Money Heist', 'The Good Place', \"Grey's Anatomy\", 'Peaky Blinders', 'Game Of Thrones', 'The Office', 'Chuck', 'The 100', 'Jeopardy', 'Southern Charm', 'Family Feud', 'Below Deck', 'Money Heist', 'The Good Place', \"Grey's Anatomy\", 'Peaky Blinders', 'Game Of Thrones', 'The Office', 'Chuck', 'The 100', 'Jeopardy', 'Southern Charm', 'Family Feud', 'Below Deck', 'Money Heist', 'The Good Place', \"Grey's Anatomy\"]\n",
            "['Peaky Blinders', 'Game Of Thrones', 'The Office', 'Chuck', 'The 100', 'Jeopardy', 'Southern Charm', 'Family Feud', 'Below Deck', 'Money Heist', 'The Good Place', \"Grey's Anatomy\", \"I'm a string\", 100.02, True, 5, 'Murphy', False]\n",
            "['Peaky Blinders', 'Game Of Thrones', 'The Office', 'Columbo', 'The 100', 'Jeopardy', 'Southern Charm', 'Family Feud', 'Below Deck', 'Money Heist', 'The Good Place', \"Grey's Anatomy\", 'Psych']\n"
          ],
          "name": "stdout"
        }
      ]
    },
    {
      "cell_type": "code",
      "metadata": {
        "id": "CHcRjLZPE40X",
        "colab_type": "code",
        "outputId": "1d18b9e7-efb0-48b6-c651-55050781b924",
        "colab": {
          "base_uri": "https://localhost:8080/",
          "height": 34
        }
      },
      "source": [
        "x = [4, \"foo\", True, -143830912.92, \"moo\", \"doo\"]\n",
        "del x[1] # gets rid of second element in list\n",
        "\n",
        "x = [4, \"foo\", True, -143830912.92, \"moo\", \"doo\"]\n",
        "len(x) # length of list (6)\n",
        "y = [\"bear\", 10]\n",
        "z = x + y # concatenates x and y into one list\n",
        "\n",
        "\"bear\" in y # True\n",
        "12 in y #False\n",
        "\n",
        "#for xi in x :\n",
        "  #print(xi) #prints out new line for each element in x\n",
        "\n",
        "x[-1] # last element of x (\"doo\")\n",
        "x[-2] # second to last element of x (\"moo\")\n",
        "x[0:-2] # [4, \"foo\", True, -143830912.92] (does not include second to last element but does include first element)\n",
        "\n",
        "# max(x) won't work bc not supported between diff data types\n",
        "\n",
        "y = [4, 5, 6, 5, 2, 3, 4, 5, 3, 5, 3]\n",
        "max(y) # max number in y (6)\n",
        "z = [\"foo\", \"apple\", \"zoo\", \"zebra\"]\n",
        "max(z) # max value of alphabetical (\"zoo\")\n",
        "\n",
        "# can do same with min(z)\n",
        "\n",
        "y.count(3) # counts the number of times something appears (3 times)\n",
        "y.index(3) # returns lowest index at which value occurs (5)\n",
        "# y.index(-10) THROWS AN ERROR\n",
        "\n",
        "y.insert(0, 10000) #adds 10000 at index 0 insert(idx, obj)\n",
        "\n",
        "y.pop() # removes and returns last elment in list \n",
        "y.remove(3) # removes first instance of object from list\n",
        "\n",
        "y.reverse() # reverses the list\n",
        "y.sort() # sorts the list\n",
        "\n",
        "\n",
        "\n",
        "\n"
      ],
      "execution_count": 0,
      "outputs": [
        {
          "output_type": "execute_result",
          "data": {
            "text/plain": [
              "['apple', 'foo', 'zebra', 'zoo']"
            ]
          },
          "metadata": {
            "tags": []
          },
          "execution_count": 209
        }
      ]
    },
    {
      "cell_type": "markdown",
      "metadata": {
        "id": "7wT-es9i1ki9",
        "colab_type": "text"
      },
      "source": [
        "**Tuples**"
      ]
    },
    {
      "cell_type": "markdown",
      "metadata": {
        "id": "ApyOdM9F1qwT",
        "colab_type": "text"
      },
      "source": [
        "Tuples are similar to lists, but they are read-only and use parantheses. They cannot be updated"
      ]
    },
    {
      "cell_type": "code",
      "metadata": {
        "id": "27sEBHQo1jtl",
        "colab_type": "code",
        "outputId": "7e5e2564-a86f-4c0d-a476-e35ccfc5735c",
        "colab": {
          "base_uri": "https://localhost:8080/",
          "height": 105
        }
      },
      "source": [
        "tv_shows = (\"Peaky Blinders\", \"Game Of Thrones\", \"The Office\", \n",
        "            \"Chuck\", \"The 100\", \"Jeopardy\", \"Southern Charm\", \"Family Feud\",\n",
        "            \"Below Deck\", \"Money Heist\", \"The Good Place\", \"Grey's Anatomy\")\n",
        "#tv_shows[3] = \"The Simpsons\" NOT ALLOWED TO UPDATE TUPLE\n",
        "\n",
        "print(tv_shows) #prints entire list\n",
        "print(tv_shows[0]) #prints first element in list\n",
        "print(tv_shows[2:]) #prints entire list starting with third element\n",
        "print(tv_shows[:4]) #prints beginning of list up to fourth element (does not include fourth indexed element)\n",
        "\n",
        "tv_shows = (\"Hi\") #but can change what variable is pointing to\n",
        "\n"
      ],
      "execution_count": 0,
      "outputs": [
        {
          "output_type": "stream",
          "text": [
            "('Peaky Blinders', 'Game Of Thrones', 'The Office', 'Chuck', 'The 100', 'Jeopardy', 'Southern Charm', 'Family Feud', 'Below Deck', 'Money Heist', 'The Good Place', \"Grey's Anatomy\")\n",
            "Peaky Blinders\n",
            "('The Office', 'Chuck', 'The 100', 'Jeopardy', 'Southern Charm', 'Family Feud', 'Below Deck', 'Money Heist', 'The Good Place', \"Grey's Anatomy\")\n",
            "('Peaky Blinders', 'Game Of Thrones', 'The Office', 'Chuck')\n"
          ],
          "name": "stdout"
        }
      ]
    },
    {
      "cell_type": "code",
      "metadata": {
        "id": "UaNfgq7YHx5c",
        "colab_type": "code",
        "outputId": "4e10413a-0b73-43de-f79a-e80d3d66b45d",
        "colab": {
          "base_uri": "https://localhost:8080/",
          "height": 136
        }
      },
      "source": [
        "tup1 = (1, 2, 3, \"4\")\n",
        "tup2 = (\"4\", 5, 6, 7, 8)\n",
        "tup3 = tup1 + tup2 # concatenates the two tuples into one tuple\n",
        "\n",
        "len(tup3) # 9 - length of tuple\n",
        "\"4\" in tup3 # True\n",
        "\n",
        "\n",
        "toople = (\"go\", \"fight\", \"win\")\n",
        "for q in toople:\n",
        "  print(q) #prints go fight win\n",
        "\n",
        "twople = (1, 2, 4, 5)\n",
        "for l in twople :\n",
        "  print(l) #prints 1, 2, 4, 5\n",
        "\n",
        "# can do max, min for tuples same as lists"
      ],
      "execution_count": 0,
      "outputs": [
        {
          "output_type": "stream",
          "text": [
            "go\n",
            "fight\n",
            "win\n",
            "1\n",
            "2\n",
            "4\n",
            "5\n"
          ],
          "name": "stdout"
        }
      ]
    },
    {
      "cell_type": "markdown",
      "metadata": {
        "id": "VWn48EbW296R",
        "colab_type": "text"
      },
      "source": [
        "**Dictionary**"
      ]
    },
    {
      "cell_type": "markdown",
      "metadata": {
        "id": "ew_z7je03EN0",
        "colab_type": "text"
      },
      "source": [
        "Uses key-value pair to connect data (need distinct keys). Keys and Values can be different data types"
      ]
    },
    {
      "cell_type": "code",
      "metadata": {
        "id": "fThax1yEy51p",
        "colab_type": "code",
        "outputId": "281b0dc5-f335-4bab-a6f8-ec68e5891bde",
        "colab": {
          "base_uri": "https://localhost:8080/",
          "height": 34
        }
      },
      "source": [
        "dic1 = {\"Cassidy\": 23, \"Becky\": 51, \"Kevin\":52, \"Murphy\":4, \"Halie\":21}\n",
        "dic2 = {\"Name\":\"Halie Chmura\", \"Age\": 21, \"Student\": True, \"Pet's Name\":\"Murphy\"}\n",
        "dic3 = {\"Name\": \"Cassidy Chmura\", 200: \"15\"}\n",
        "\n",
        " # can use diff types for keys and values\n",
        "\n",
        "dic1[\"Cassidy\"] #23\n",
        "dic2[\"Student\"] #True\n",
        "dic3[200] #\"15\"\n",
        "dic2.keys() #list: [\"Name\", \"Age\", \"Student\", \"Pet's Name\"]\n",
        "dic2.values() #list: [\"Halie Chmura\", 21, True, Murphy]\n"
      ],
      "execution_count": 0,
      "outputs": [
        {
          "output_type": "execute_result",
          "data": {
            "text/plain": [
              "dict_values(['Halie Chmura', 21, True, 'Murphy'])"
            ]
          },
          "metadata": {
            "tags": []
          },
          "execution_count": 38
        }
      ]
    },
    {
      "cell_type": "code",
      "metadata": {
        "id": "mcIzORJcJPKx",
        "colab_type": "code",
        "outputId": "8c400f3f-c711-4809-9f55-33cea94daabf",
        "colab": {
          "base_uri": "https://localhost:8080/",
          "height": 34
        }
      },
      "source": [
        "d = {\"Fruit\":\"Apple\", \"Vegetable\": \"Brocolli\", \"Animal\": \"Dog\", \"Movie\":\"The Wolf of Wall Street\"}\n",
        "d[\"Color\"] = \"Blue\" # adds key/value pair of \"Color\":\"Blue\"\n",
        "del d[\"Movie\"] # delete movie key from dictionary\n",
        "# del d[\"TV Show\"] THROWS AN ERROR\n",
        "d.clear() # removes all entries from d\n",
        "del d # deletes entire dictionary\n",
        "\n",
        "# keys must be immutable, so keys can be strings, numbers, or tuples\n",
        "\n",
        "d = {\"Fruit\":\"Apple\", \"Vegetable\": \"Brocolli\", \"Animal\": \"Dog\", \"Movie\":\"The Wolf of Wall Street\"}\n",
        "len(d) # gives length of dictionary (4)\n",
        "\n",
        "# in tests for keys only\n",
        "d.get(\"Fruit\") # returns \"Apple\"\n",
        "\"Vegetable\" in d # True\n",
        "\"Brocolli\" in d # False\n",
        "\n",
        "d.items() # returns a list of d (key, value) pairs in a \n",
        "d.keys() # returns a list of d keys\n",
        "d.values() # returns a list of d values\n",
        "\n",
        "\n",
        "\n"
      ],
      "execution_count": 0,
      "outputs": [
        {
          "output_type": "execute_result",
          "data": {
            "text/plain": [
              "dict_values(['Apple', 'Brocolli', 'Dog', 'The Wolf of Wall Street'])"
            ]
          },
          "metadata": {
            "tags": []
          },
          "execution_count": 243
        }
      ]
    },
    {
      "cell_type": "markdown",
      "metadata": {
        "id": "szrEvPkt4aYU",
        "colab_type": "text"
      },
      "source": [
        "**Data Type Conversion**"
      ]
    },
    {
      "cell_type": "code",
      "metadata": {
        "id": "Zy6WtN-j3gSK",
        "colab_type": "code",
        "outputId": "e495c54a-c155-40dd-dd35-76fdf46cb00c",
        "colab": {
          "base_uri": "https://localhost:8080/",
          "height": 34
        }
      },
      "source": [
        "x = 4.9\n",
        "int(x) #rounds x to 4\n",
        "str(x) #makes x into \"4.9\"\n",
        "\n",
        "y = \"4\"\n",
        "int(y) #turns y into int 4\n",
        "\n",
        "z = \"foo\"\n",
        "#int(z) #VALUE ERROR WOULD BE THROWN\n",
        "\n",
        "lis = [4, 5, 3, 5, 6, 3, 3, 3, 3, 3, 3, 3, 4, 5]\n",
        "tuple(lis) # converts lis to a tuple\n",
        "set(lis) # converts lis to a set (ie no repeats and order doesn't matter)\n",
        "list(set(lis)) # converts the set of lis to a list\n",
        "\n",
        "i = 1\n",
        "float(i) # converts int to float\n",
        "\n",
        "ni = -4.9\n",
        "int(ni) # rounds up to -4\n",
        "\n"
      ],
      "execution_count": 0,
      "outputs": [
        {
          "output_type": "execute_result",
          "data": {
            "text/plain": [
              "-4"
            ]
          },
          "metadata": {
            "tags": []
          },
          "execution_count": 66
        }
      ]
    },
    {
      "cell_type": "markdown",
      "metadata": {
        "id": "cpiaRHuI8LBZ",
        "colab_type": "text"
      },
      "source": [
        "**Conditionals**"
      ]
    },
    {
      "cell_type": "code",
      "metadata": {
        "id": "3Si9zKe-400S",
        "colab_type": "code",
        "outputId": "abd68013-b8a8-44a4-c813-d07e8db8a983",
        "colab": {
          "base_uri": "https://localhost:8080/",
          "height": 34
        }
      },
      "source": [
        "x = 1300\n",
        "if (x != 1400) : print(\"booyah!\")"
      ],
      "execution_count": 0,
      "outputs": [
        {
          "output_type": "stream",
          "text": [
            "booyah!\n"
          ],
          "name": "stdout"
        }
      ]
    },
    {
      "cell_type": "code",
      "metadata": {
        "id": "L0O7pq1C8SDr",
        "colab_type": "code",
        "outputId": "070712ef-9c11-4695-aa43-d09e941994f2",
        "colab": {
          "base_uri": "https://localhost:8080/",
          "height": 34
        }
      },
      "source": [
        "if x < 19 :\n",
        "  print(\"won't get here\")\n",
        "elif x < 1000 :\n",
        "  print(\"won\\'t get here either\")\n",
        "else :\n",
        "  print(\"will get here\")"
      ],
      "execution_count": 0,
      "outputs": [
        {
          "output_type": "stream",
          "text": [
            "will get here\n"
          ],
          "name": "stdout"
        }
      ]
    },
    {
      "cell_type": "markdown",
      "metadata": {
        "id": "wbZ0W3Pg8r-C",
        "colab_type": "text"
      },
      "source": [
        "**Loops**"
      ]
    },
    {
      "cell_type": "markdown",
      "metadata": {
        "id": "ScUB1EWb81AJ",
        "colab_type": "text"
      },
      "source": [
        "Important statements:\n",
        "\n",
        "\n",
        "1.   break statement: stops loop and continues on\n",
        "2.   continue statement: continues at top of loop\n",
        "3.   pass statement: used when a statement is required syntactically but don't need any code there\n",
        "\n"
      ]
    },
    {
      "cell_type": "markdown",
      "metadata": {
        "id": "esr-Aimp_XfZ",
        "colab_type": "text"
      },
      "source": [
        "**Random**"
      ]
    },
    {
      "cell_type": "code",
      "metadata": {
        "id": "R4CN-Gwv8fdM",
        "colab_type": "code",
        "outputId": "117f1f34-9a98-4b0d-8280-901013c518d3",
        "colab": {
          "base_uri": "https://localhost:8080/",
          "height": 34
        }
      },
      "source": [
        "import random\n",
        "\n",
        "t = (14, 213, 98792, -19123, 32904, -232332)\n",
        "random.choice(t) # choose a random value from t\n",
        "random.randrange(1, 1000, 2) # choose randomly value between inclusive 1 and 1000, but only odd numbers because of step (start, stop, step)\n",
        "random.random() # random value from inclusive 0 to exclusive 1\n",
        "\n",
        "s = [3, 2, 23, 53, 35, 24]\n",
        "random.shuffle(s) # randomly shuffles elements in s\n"
      ],
      "execution_count": 0,
      "outputs": [
        {
          "output_type": "stream",
          "text": [
            "[35, 23, 53, 3, 2, 24]\n"
          ],
          "name": "stdout"
        }
      ]
    },
    {
      "cell_type": "markdown",
      "metadata": {
        "id": "uJ0wSD6dLSGD",
        "colab_type": "text"
      },
      "source": [
        "**Time**"
      ]
    },
    {
      "cell_type": "code",
      "metadata": {
        "id": "aD3iw-Af_fMS",
        "colab_type": "code",
        "outputId": "e291c515-c75a-405a-e33a-7321d5f2b9ac",
        "colab": {
          "base_uri": "https://localhost:8080/",
          "height": 68
        }
      },
      "source": [
        "import time\n",
        "ticks = time.time()\n",
        "print(\"Number of ticks: {}\".format(ticks))\n",
        "\n",
        "# ticks are number of seconds since Jan 1, 1970 12:00am\n",
        "\n",
        "localtime = time.localtime(time.time())\n",
        "print(localtime)\n",
        "\n",
        "localtime = time.asctime(time.localtime(time.time()))\n",
        "print(\"Local current time: {}\".format(localtime))"
      ],
      "execution_count": 0,
      "outputs": [
        {
          "output_type": "stream",
          "text": [
            "Number of ticks: 1588738406.7494154\n",
            "time.struct_time(tm_year=2020, tm_mon=5, tm_mday=6, tm_hour=4, tm_min=13, tm_sec=26, tm_wday=2, tm_yday=127, tm_isdst=0)\n",
            "Local current time: Wed May  6 04:13:26 2020\n"
          ],
          "name": "stdout"
        }
      ]
    },
    {
      "cell_type": "code",
      "metadata": {
        "id": "8Dz7zb0RLek9",
        "colab_type": "code",
        "outputId": "cb6f7fef-a8dd-4ef9-ef47-97d13b43260a",
        "colab": {
          "base_uri": "https://localhost:8080/",
          "height": 153
        }
      },
      "source": [
        "import calendar\n",
        "\n",
        "cal = calendar.month(1999, 4)\n",
        "print(cal)"
      ],
      "execution_count": 0,
      "outputs": [
        {
          "output_type": "stream",
          "text": [
            "     April 1999\n",
            "Mo Tu We Th Fr Sa Su\n",
            "          1  2  3  4\n",
            " 5  6  7  8  9 10 11\n",
            "12 13 14 15 16 17 18\n",
            "19 20 21 22 23 24 25\n",
            "26 27 28 29 30\n",
            "\n"
          ],
          "name": "stdout"
        }
      ]
    },
    {
      "cell_type": "markdown",
      "metadata": {
        "id": "UKfdz3_pMUrS",
        "colab_type": "text"
      },
      "source": [
        "**Functions**"
      ]
    },
    {
      "cell_type": "code",
      "metadata": {
        "id": "qhpqcVdAMoqk",
        "colab_type": "code",
        "outputId": "1da2ceae-24e5-450b-85ac-0dc224d014be",
        "colab": {
          "base_uri": "https://localhost:8080/",
          "height": 187
        }
      },
      "source": [
        "def printStatement(sentence) :\n",
        "  print(sentence)\n",
        "\n",
        "printStatement(\"Hello\")\n",
        "\n",
        "\n",
        "def listChanger(theList) :\n",
        "  theList.append(\"wazzzzzup\")\n",
        "\n",
        "x = [\"hi\", \"byE\", \"mate\", \"moo\"]\n",
        "listChanger(x)\n",
        "\n",
        "\n",
        "def defaultParam(name, age = 35) :\n",
        "  print(\"Name: {} Age: {}\".format(name, age))\n",
        "\n",
        "defaultParam(\"Halie\", 21) # Name: Halie Age: 21\n",
        "defaultParam(\"Halie\") # Name: Halie Age: 35\n",
        "\n",
        "# Variable-length arguments (when you need to process a funciton for more arguments than you specified while defining the function)\n",
        "\n",
        "def printInfo(arg1, *extraargs) :\n",
        "  print(arg1)\n",
        "  for arg in extraargs :\n",
        "    print(arg)\n",
        "  return\n",
        "\n",
        "printInfo(\"Halie\", \"Funny\", \"Moon\", \"Stars\", \"Dragon\", \"Beets\") # prints out all of these \n",
        "\n",
        "\n",
        "def adder(arg1, arg2) :\n",
        "  return arg1 + arg2\n",
        "\n",
        "adder(1, 2) #3\n"
      ],
      "execution_count": 0,
      "outputs": [
        {
          "output_type": "stream",
          "text": [
            "Hello\n",
            "Name: Halie Age: 21\n",
            "Name: Halie Age: 35\n",
            "Halie\n",
            "Funny\n",
            "Moon\n",
            "Stars\n",
            "Dragon\n",
            "Beets\n"
          ],
          "name": "stdout"
        },
        {
          "output_type": "execute_result",
          "data": {
            "text/plain": [
              "3"
            ]
          },
          "metadata": {
            "tags": []
          },
          "execution_count": 263
        }
      ]
    },
    {
      "cell_type": "markdown",
      "metadata": {
        "id": "w_fSf6WfPjom",
        "colab_type": "text"
      },
      "source": [
        "**Important**"
      ]
    },
    {
      "cell_type": "code",
      "metadata": {
        "id": "aNWfg5x1Mt-K",
        "colab_type": "code",
        "outputId": "d6b6a5c1-b68e-4ed1-b9e6-52f09ea4f799",
        "colab": {
          "base_uri": "https://localhost:8080/",
          "height": 54
        }
      },
      "source": [
        "# use dir() to get a sorted list of strings that contains the names defined by a module\n",
        "import math\n",
        "\n",
        "content = dir(math)\n",
        "print(content)\n",
        "\n",
        "\n",
        "# can use global() and local() functions to see all global and local values at any given point of a program\n",
        "\n"
      ],
      "execution_count": 0,
      "outputs": [
        {
          "output_type": "stream",
          "text": [
            "['__doc__', '__loader__', '__name__', '__package__', '__spec__', 'acos', 'acosh', 'asin', 'asinh', 'atan', 'atan2', 'atanh', 'ceil', 'copysign', 'cos', 'cosh', 'degrees', 'e', 'erf', 'erfc', 'exp', 'expm1', 'fabs', 'factorial', 'floor', 'fmod', 'frexp', 'fsum', 'gamma', 'gcd', 'hypot', 'inf', 'isclose', 'isfinite', 'isinf', 'isnan', 'ldexp', 'lgamma', 'log', 'log10', 'log1p', 'log2', 'modf', 'nan', 'pi', 'pow', 'radians', 'sin', 'sinh', 'sqrt', 'tan', 'tanh', 'tau', 'trunc']\n"
          ],
          "name": "stdout"
        }
      ]
    },
    {
      "cell_type": "markdown",
      "metadata": {
        "id": "b9MWmqyMQP--",
        "colab_type": "text"
      },
      "source": [
        "**Reading Input**"
      ]
    },
    {
      "cell_type": "code",
      "metadata": {
        "id": "bBVTvuJoPtMN",
        "colab_type": "code",
        "outputId": "e58863ca-b6d0-4b06-c852-ff4146db289c",
        "colab": {
          "base_uri": "https://localhost:8080/",
          "height": 187
        }
      },
      "source": [
        "# input function\n",
        "\n",
        "stri = input(\"Enter your input\")\n",
        "print(\"Received input: {}\".format(stri))\n",
        "\n",
        "r = [\"foo\", \"moo\", \"doo\", \"zoo\"]\n",
        "for i in range(len(r)) :\n",
        "  s = input(\"Enter a number: \")\n",
        "  print(\"NUMBER ENTERED: {}\".format(s))"
      ],
      "execution_count": 0,
      "outputs": [
        {
          "output_type": "stream",
          "text": [
            "Enter your input3\n",
            "Received input: 3\n",
            "Enter a number: 4\n",
            "NUMBER ENTERED: 4\n",
            "Enter a number: 3\n",
            "NUMBER ENTERED: 3\n",
            "Enter a number: 2\n",
            "NUMBER ENTERED: 2\n",
            "Enter a number: 2\n",
            "NUMBER ENTERED: 2\n"
          ],
          "name": "stdout"
        }
      ]
    },
    {
      "cell_type": "markdown",
      "metadata": {
        "id": "DsQbCYjJRwIl",
        "colab_type": "text"
      },
      "source": [
        "**Exception Handling**"
      ]
    },
    {
      "cell_type": "code",
      "metadata": {
        "id": "gGcJ5wCMQc7f",
        "colab_type": "code",
        "outputId": "3f648e36-4155-4338-ffc6-6ab8f080491b",
        "colab": {
          "base_uri": "https://localhost:8080/",
          "height": 385
        }
      },
      "source": [
        "# assert statement - excepion is raised if result comes up false\n",
        "\n",
        "def KelvinToFahrenheit(Temperature):\n",
        "   assert (Temperature >= 0),\"Colder than absolute zero!\" # here if Temperature <0 than \"Colder than absolute zero!\" error is thrown\n",
        "   return ((Temperature-273)*1.8)+32\n",
        "\n",
        "print(KelvinToFahrenheit(273))\n",
        "print(int(KelvinToFahrenheit(505.78)))\n",
        "print(KelvinToFahrenheit(-5))\n"
      ],
      "execution_count": 0,
      "outputs": [
        {
          "output_type": "stream",
          "text": [
            "32.0\n",
            "451\n"
          ],
          "name": "stdout"
        },
        {
          "output_type": "error",
          "ename": "AssertionError",
          "evalue": "ignored",
          "traceback": [
            "\u001b[0;31m---------------------------------------------------------------------------\u001b[0m",
            "\u001b[0;31mAssertionError\u001b[0m                            Traceback (most recent call last)",
            "\u001b[0;32m<ipython-input-282-f2610f00a201>\u001b[0m in \u001b[0;36m<module>\u001b[0;34m()\u001b[0m\n\u001b[1;32m      6\u001b[0m \u001b[0mprint\u001b[0m\u001b[0;34m(\u001b[0m\u001b[0mKelvinToFahrenheit\u001b[0m\u001b[0;34m(\u001b[0m\u001b[0;36m273\u001b[0m\u001b[0;34m)\u001b[0m\u001b[0;34m)\u001b[0m\u001b[0;34m\u001b[0m\u001b[0;34m\u001b[0m\u001b[0m\n\u001b[1;32m      7\u001b[0m \u001b[0mprint\u001b[0m\u001b[0;34m(\u001b[0m\u001b[0mint\u001b[0m\u001b[0;34m(\u001b[0m\u001b[0mKelvinToFahrenheit\u001b[0m\u001b[0;34m(\u001b[0m\u001b[0;36m505.78\u001b[0m\u001b[0;34m)\u001b[0m\u001b[0;34m)\u001b[0m\u001b[0;34m)\u001b[0m\u001b[0;34m\u001b[0m\u001b[0;34m\u001b[0m\u001b[0m\n\u001b[0;32m----> 8\u001b[0;31m \u001b[0mprint\u001b[0m\u001b[0;34m(\u001b[0m\u001b[0mKelvinToFahrenheit\u001b[0m\u001b[0;34m(\u001b[0m\u001b[0;34m-\u001b[0m\u001b[0;36m5\u001b[0m\u001b[0;34m)\u001b[0m\u001b[0;34m)\u001b[0m\u001b[0;34m\u001b[0m\u001b[0;34m\u001b[0m\u001b[0m\n\u001b[0m\u001b[1;32m      9\u001b[0m \u001b[0;34m\u001b[0m\u001b[0m\n\u001b[1;32m     10\u001b[0m \u001b[0mprint\u001b[0m\u001b[0;34m(\u001b[0m\u001b[0;34m\"here\"\u001b[0m\u001b[0;34m)\u001b[0m\u001b[0;34m\u001b[0m\u001b[0;34m\u001b[0m\u001b[0m\n",
            "\u001b[0;32m<ipython-input-282-f2610f00a201>\u001b[0m in \u001b[0;36mKelvinToFahrenheit\u001b[0;34m(Temperature)\u001b[0m\n\u001b[1;32m      1\u001b[0m \u001b[0;34m\u001b[0m\u001b[0m\n\u001b[1;32m      2\u001b[0m \u001b[0;32mdef\u001b[0m \u001b[0mKelvinToFahrenheit\u001b[0m\u001b[0;34m(\u001b[0m\u001b[0mTemperature\u001b[0m\u001b[0;34m)\u001b[0m\u001b[0;34m:\u001b[0m\u001b[0;34m\u001b[0m\u001b[0;34m\u001b[0m\u001b[0m\n\u001b[0;32m----> 3\u001b[0;31m    \u001b[0;32massert\u001b[0m \u001b[0;34m(\u001b[0m\u001b[0mTemperature\u001b[0m \u001b[0;34m>=\u001b[0m \u001b[0;36m0\u001b[0m\u001b[0;34m)\u001b[0m\u001b[0;34m,\u001b[0m\u001b[0;34m\"Colder than absolute zero!\"\u001b[0m \u001b[0;31m# here if Temperature <0 than \"Colder than absolute zero!\" error is thrown\u001b[0m\u001b[0;34m\u001b[0m\u001b[0;34m\u001b[0m\u001b[0m\n\u001b[0m\u001b[1;32m      4\u001b[0m    \u001b[0;32mreturn\u001b[0m \u001b[0;34m(\u001b[0m\u001b[0;34m(\u001b[0m\u001b[0mTemperature\u001b[0m\u001b[0;34m-\u001b[0m\u001b[0;36m273\u001b[0m\u001b[0;34m)\u001b[0m\u001b[0;34m*\u001b[0m\u001b[0;36m1.8\u001b[0m\u001b[0;34m)\u001b[0m\u001b[0;34m+\u001b[0m\u001b[0;36m32\u001b[0m\u001b[0;34m\u001b[0m\u001b[0;34m\u001b[0m\u001b[0m\n\u001b[1;32m      5\u001b[0m \u001b[0;34m\u001b[0m\u001b[0m\n",
            "\u001b[0;31mAssertionError\u001b[0m: Colder than absolute zero!"
          ]
        }
      ]
    },
    {
      "cell_type": "code",
      "metadata": {
        "id": "mpY0MvNbSmx1",
        "colab_type": "code",
        "outputId": "6e76a0fe-059d-47d8-b47c-e0d72e29855a",
        "colab": {
          "base_uri": "https://localhost:8080/",
          "height": 51
        }
      },
      "source": [
        "# Handling an exception\n",
        "\n",
        "def temp_converter(var) :\n",
        "  try:\n",
        "    return int(var)\n",
        "  except ValueError :\n",
        "    print(\"Arg does not contain numbers\")\n",
        "\n",
        "temp_converter(\"xyz\")\n",
        "\n",
        "def temp_converter2(var) :\n",
        "  try:\n",
        "    return int(var)\n",
        "  except Exception :\n",
        "    print(\"Arg does not contain numbers\")\n",
        "\n",
        "temp_converter(\"xyz\")\n",
        "\n",
        "\n",
        "# Types of Errors:\n",
        "\n",
        "#ValueError, TypeError, RuntimeError, SystemExit, SystemError, IndentationError, IOError, EnvironmentError, UnboundLocalError, NameError, KeyError\n",
        "#IndexError, LookupError, KeyboardInterrupt, ImportError, EOFError, AttributeError, AssertionError, FloatingPointError, OverflowError\n",
        "#ArthmeticError, StandardError, SystemExit, StopIteration, Exception"
      ],
      "execution_count": 0,
      "outputs": [
        {
          "output_type": "stream",
          "text": [
            "Arg does not contain numbers\n",
            "Arg does not contain numbers\n"
          ],
          "name": "stdout"
        }
      ]
    },
    {
      "cell_type": "code",
      "metadata": {
        "id": "e098e5axUnqZ",
        "colab_type": "code",
        "colab": {}
      },
      "source": [
        ""
      ],
      "execution_count": 0,
      "outputs": []
    }
  ]
}